{
  "nbformat": 4,
  "nbformat_minor": 0,
  "metadata": {
    "colab": {
      "name": "task1.ipynb",
      "provenance": [],
      "collapsed_sections": [],
      "authorship_tag": "ABX9TyOYcTkCqEIUJVjJ4BRBQw/O",
      "include_colab_link": true
    },
    "kernelspec": {
      "name": "python3",
      "display_name": "Python 3"
    },
    "language_info": {
      "name": "python"
    }
  },
  "cells": [
    {
      "cell_type": "markdown",
      "metadata": {
        "id": "view-in-github",
        "colab_type": "text"
      },
      "source": [
        "<a href=\"https://colab.research.google.com/github/da-matsumoto/machine/blob/practice/task1.ipynb\" target=\"_parent\"><img src=\"https://colab.research.google.com/assets/colab-badge.svg\" alt=\"Open In Colab\"/></a>"
      ]
    },
    {
      "cell_type": "code",
      "execution_count": 1,
      "metadata": {
        "colab": {
          "base_uri": "https://localhost:8080/"
        },
        "id": "9Zrv1Jr1yCNt",
        "outputId": "9eb35292-c3f7-4006-8b1f-f41ac671ee48"
      },
      "outputs": [
        {
          "output_type": "stream",
          "name": "stdout",
          "text": [
            "厚さ：0.00016メートル\n"
          ]
        }
      ],
      "source": [
        "THICKNESS = 0.00008\n",
        "\n",
        "folded_thickness = THICKNESS * 2\n",
        "\n",
        "print(\"厚さ：{}メートル\".format(folded_thickness))"
      ]
    },
    {
      "cell_type": "code",
      "source": [
        "THICKNESS = 0.00008\n",
        "\n",
        "folded_thickness = THICKNESS * (2 ** 43)\n",
        "print(\"厚さ：{}メートル\".format(folded_thickness))"
      ],
      "metadata": {
        "colab": {
          "base_uri": "https://localhost:8080/"
        },
        "id": "-c_ALQQsytFt",
        "outputId": "36c35c8d-24c4-4be1-892e-157750ed42ae"
      },
      "execution_count": 7,
      "outputs": [
        {
          "output_type": "stream",
          "name": "stdout",
          "text": [
            "厚さ：703687441.77664メートル\n"
          ]
        }
      ]
    },
    {
      "cell_type": "code",
      "source": [
        "import math\n",
        "THICKNESS = 0.00008\n",
        "\n",
        "folded_thickness = THICKNESS * (2 ** 43)\n",
        "print(\"厚さ： {:.2f}キロメートル\".format(folded_thickness / 1000))"
      ],
      "metadata": {
        "colab": {
          "base_uri": "https://localhost:8080/"
        },
        "id": "MPeTklXy1ptn",
        "outputId": "86d0bf59-dfa1-4d83-92a6-ddf332a39cf1"
      },
      "execution_count": 27,
      "outputs": [
        {
          "output_type": "stream",
          "name": "stdout",
          "text": [
            "厚さ： 703687.44キロメートル\n"
          ]
        }
      ]
    },
    {
      "cell_type": "code",
      "source": [
        "import math\n",
        "THICKNESS = 0.00008\n",
        "\n",
        "folded_thickness = THICKNESS * (2 ** 43)\n",
        "print(\"厚さ：{}万{:.2f}キロメートル\".format(math.floor(folded_thickness / 10000000), (folded_thickness / 1000) - (math.floor(folded_thickness / 10000000)) * 10000))"
      ],
      "metadata": {
        "colab": {
          "base_uri": "https://localhost:8080/"
        },
        "id": "CaeXe7Bd5Y2j",
        "outputId": "18b385f8-9723-4924-a21a-5f73b45b5de7"
      },
      "execution_count": 30,
      "outputs": [
        {
          "output_type": "stream",
          "name": "stdout",
          "text": [
            "厚さ：70万3687.44キロメートル\n"
          ]
        }
      ]
    },
    {
      "cell_type": "code",
      "source": [
        ""
      ],
      "metadata": {
        "id": "i_Q4oadQ5-Rd"
      },
      "execution_count": null,
      "outputs": []
    }
  ]
}