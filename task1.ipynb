{
  "nbformat": 4,
  "nbformat_minor": 0,
  "metadata": {
    "colab": {
      "name": "task1.ipynb",
      "provenance": [],
      "collapsed_sections": [],
      "authorship_tag": "ABX9TyNta7c307oHymyK6ZSScEPA",
      "include_colab_link": true
    },
    "kernelspec": {
      "name": "python3",
      "display_name": "Python 3"
    },
    "language_info": {
      "name": "python"
    }
  },
  "cells": [
    {
      "cell_type": "markdown",
      "metadata": {
        "id": "view-in-github",
        "colab_type": "text"
      },
      "source": [
        "<a href=\"https://colab.research.google.com/github/da-matsumoto/machine/blob/practice/task1.ipynb\" target=\"_parent\"><img src=\"https://colab.research.google.com/assets/colab-badge.svg\" alt=\"Open In Colab\"/></a>"
      ]
    },
    {
      "cell_type": "code",
      "execution_count": null,
      "metadata": {
        "colab": {
          "base_uri": "https://localhost:8080/"
        },
        "id": "9Zrv1Jr1yCNt",
        "outputId": "9eb35292-c3f7-4006-8b1f-f41ac671ee48"
      },
      "outputs": [
        {
          "output_type": "stream",
          "name": "stdout",
          "text": [
            "厚さ：0.00016メートル\n"
          ]
        }
      ],
      "source": [
        "THICKNESS = 0.00008\n",
        "\n",
        "folded_thickness = THICKNESS * 2\n",
        "\n",
        "print(\"厚さ：{}メートル\".format(folded_thickness))"
      ]
    },
    {
      "cell_type": "code",
      "source": [
        "THICKNESS = 0.00008\n",
        "\n",
        "folded_thickness = THICKNESS * (2 ** 43)\n",
        "print(\"厚さ：{}メートル\".format(folded_thickness))"
      ],
      "metadata": {
        "colab": {
          "base_uri": "https://localhost:8080/"
        },
        "id": "-c_ALQQsytFt",
        "outputId": "36c35c8d-24c4-4be1-892e-157750ed42ae"
      },
      "execution_count": null,
      "outputs": [
        {
          "output_type": "stream",
          "name": "stdout",
          "text": [
            "厚さ：703687441.77664メートル\n"
          ]
        }
      ]
    },
    {
      "cell_type": "code",
      "source": [
        "import math\n",
        "THICKNESS = 0.00008\n",
        "\n",
        "folded_thickness = THICKNESS * (2 ** 43)\n",
        "print(\"厚さ： {:.2f}キロメートル\".format(folded_thickness / 1000))"
      ],
      "metadata": {
        "colab": {
          "base_uri": "https://localhost:8080/"
        },
        "id": "MPeTklXy1ptn",
        "outputId": "86d0bf59-dfa1-4d83-92a6-ddf332a39cf1"
      },
      "execution_count": null,
      "outputs": [
        {
          "output_type": "stream",
          "name": "stdout",
          "text": [
            "厚さ： 703687.44キロメートル\n"
          ]
        }
      ]
    },
    {
      "cell_type": "code",
      "source": [
        "import math\n",
        "THICKNESS = 0.00008\n",
        "\n",
        "folded_thickness = THICKNESS * (2 ** 43)\n",
        "print(\"厚さ：{}万{:.2f}キロメートル\".format(math.floor(folded_thickness / 10000000), (folded_thickness / 1000) - (math.floor(folded_thickness / 10000000)) * 10000))"
      ],
      "metadata": {
        "colab": {
          "base_uri": "https://localhost:8080/"
        },
        "id": "CaeXe7Bd5Y2j",
        "outputId": "18b385f8-9723-4924-a21a-5f73b45b5de7"
      },
      "execution_count": null,
      "outputs": [
        {
          "output_type": "stream",
          "name": "stdout",
          "text": [
            "厚さ：70万3687.44キロメートル\n"
          ]
        }
      ]
    },
    {
      "cell_type": "code",
      "source": [
        "import math\n",
        "THICKNESS = 0.00008\n",
        "folded_thickness = THICKNESS\n",
        "\n",
        "for i in range(43):\n",
        "  folded_thickness = folded_thickness * 2\n",
        "  if i >= 42:\n",
        "    print(\"厚さ：{}万{:.2f}キロメートル\".format(math.floor(folded_thickness / 10000000), (folded_thickness / 1000) - (math.floor(folded_thickness / 10000000)) * 10000))\n"
      ],
      "metadata": {
        "colab": {
          "base_uri": "https://localhost:8080/"
        },
        "id": "i_Q4oadQ5-Rd",
        "outputId": "02278bae-812f-44e4-88d7-8b5814b3e914"
      },
      "execution_count": null,
      "outputs": [
        {
          "output_type": "stream",
          "name": "stdout",
          "text": [
            "厚さ：70万3687.44キロメートル\n"
          ]
        }
      ]
    },
    {
      "cell_type": "code",
      "source": [
        "import time\n",
        "start = time.time()\n",
        "#####\n",
        "# ここに比較したいコードを貼り付ける\n",
        "#####\n",
        "elapsed_time = time.time() - start\n",
        "print(\"time : {}[s]\".format(elapsed_time))"
      ],
      "metadata": {
        "colab": {
          "base_uri": "https://localhost:8080/"
        },
        "id": "4sWS39-8AZFX",
        "outputId": "37aca587-a2bc-42fe-de5f-f49b03140dfa"
      },
      "execution_count": 4,
      "outputs": [
        {
          "output_type": "stream",
          "name": "stdout",
          "text": [
            "time : 4.553794860839844e-05[s]\n"
          ]
        }
      ]
    },
    {
      "cell_type": "code",
      "source": [
        "import math\n",
        "import time\n",
        "THICKNESS = 0.00008\n",
        "FOLDNUM = 430\n",
        "start = time.time()\n",
        "\n",
        "folded_thickness = THICKNESS * (2 ** FOLDNUM)\n",
        "print(\"厚さ：{}万{:.2f}キロメートル\".format(math.floor(folded_thickness / 10000000), (folded_thickness / 1000) - (math.floor(folded_thickness / 10000000)) * 10000))\n",
        "elapsed_time = time.time() - start\n",
        "print(\"time:{}[s]\".format(elapsed_time))"
      ],
      "metadata": {
        "colab": {
          "base_uri": "https://localhost:8080/"
        },
        "id": "WT6tVbWxA3yE",
        "outputId": "00973d7c-d172-4d06-fc4c-2b2b7be5f3a0"
      },
      "execution_count": 16,
      "outputs": [
        {
          "output_type": "stream",
          "name": "stdout",
          "text": [
            "厚さ：22181357552966522909975337304465096068615996687226645521671978162729742289793990582755282196385144479720134638141702144万-36695977855841144185773134324833391052745039826692497979801421430190766017415756929120296849762010984873984.00キロメートル\n",
            "time:0.00024056434631347656[s]\n"
          ]
        }
      ]
    },
    {
      "cell_type": "code",
      "source": [
        "import math\n",
        "import time\n",
        "THICKNESS = 0.00008\n",
        "folded_thickness = THICKNESS\n",
        "FOLDNUM = 430\n",
        "start = time.time()\n",
        "\n",
        "for i in range(FOLDNUM):\n",
        "  folded_thickness = folded_thickness * 2\n",
        "  if i >= FOLDNUM - 1:\n",
        "    print(\"厚さ：{}万{:.2f}キロメートル\".format(math.floor(folded_thickness / 10000000), (folded_thickness / 1000) - (math.floor(folded_thickness / 10000000)) * 10000))\n",
        "    elapsed_time = time.time() -start\n",
        "    print(\"time:{}[s]\".format(elapsed_time))"
      ],
      "metadata": {
        "colab": {
          "base_uri": "https://localhost:8080/"
        },
        "id": "uUtWLXc7BZYE",
        "outputId": "9c016502-89ac-45ca-e279-f08f0457491b"
      },
      "execution_count": 17,
      "outputs": [
        {
          "output_type": "stream",
          "name": "stdout",
          "text": [
            "厚さ：22181357552966522909975337304465096068615996687226645521671978162729742289793990582755282196385144479720134638141702144万-36695977855841144185773134324833391052745039826692497979801421430190766017415756929120296849762010984873984.00キロメートル\n",
            "time:0.0023298263549804688[s]\n"
          ]
        }
      ]
    }
  ]
}