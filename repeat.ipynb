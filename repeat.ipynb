{
  "nbformat": 4,
  "nbformat_minor": 0,
  "metadata": {
    "colab": {
      "name": "repeat.ipynb",
      "provenance": [],
      "authorship_tag": "ABX9TyPSZPYybGvg8IBNlpU1uny8",
      "include_colab_link": true
    },
    "kernelspec": {
      "name": "python3",
      "display_name": "Python 3"
    },
    "language_info": {
      "name": "python"
    }
  },
  "cells": [
    {
      "cell_type": "markdown",
      "metadata": {
        "id": "view-in-github",
        "colab_type": "text"
      },
      "source": [
        "<a href=\"https://colab.research.google.com/github/da-matsumoto/machine/blob/practice/repeat.ipynb\" target=\"_parent\"><img src=\"https://colab.research.google.com/assets/colab-badge.svg\" alt=\"Open In Colab\"/></a>"
      ]
    },
    {
      "cell_type": "code",
      "execution_count": 1,
      "metadata": {
        "colab": {
          "base_uri": "https://localhost:8080/"
        },
        "id": "RQ0PGDTgDu7R",
        "outputId": "88c517a7-5607-476a-ce1b-02fca1019b3f"
      },
      "outputs": [
        {
          "output_type": "stream",
          "name": "stdout",
          "text": [
            "0\n",
            "1\n",
            "2\n",
            "3\n",
            "4\n",
            "5\n",
            "6\n",
            "7\n",
            "8\n",
            "9\n"
          ]
        }
      ],
      "source": [
        "numbers = [0, 1, 2, 3, 4, 5, 6, 7, 8, 9]\n",
        "for number in numbers:\n",
        "  print(number)"
      ]
    },
    {
      "cell_type": "code",
      "source": [
        "user_ids = (\"A081\", \"A114\", \"A186\")\n",
        "for user_id in user_ids:\n",
        "  print(user_id)"
      ],
      "metadata": {
        "colab": {
          "base_uri": "https://localhost:8080/"
        },
        "id": "RG225mVFaaX7",
        "outputId": "09e3bde8-ccf1-446e-a144-c48374ee757f"
      },
      "execution_count": 3,
      "outputs": [
        {
          "output_type": "stream",
          "name": "stdout",
          "text": [
            "A081\n",
            "A114\n",
            "A186\n"
          ]
        }
      ]
    },
    {
      "cell_type": "code",
      "source": [
        "for i in range(10):\n",
        "  print(i)"
      ],
      "metadata": {
        "colab": {
          "base_uri": "https://localhost:8080/"
        },
        "id": "SnypYL96cBAH",
        "outputId": "cdb93caf-417f-4483-be10-177a1b9f6610"
      },
      "execution_count": 7,
      "outputs": [
        {
          "output_type": "stream",
          "name": "stdout",
          "text": [
            "0\n",
            "1\n",
            "2\n",
            "3\n",
            "4\n",
            "5\n",
            "6\n",
            "7\n",
            "8\n",
            "9\n"
          ]
        }
      ]
    },
    {
      "cell_type": "code",
      "source": [
        "print(range(10))\n",
        "print(list(range(10)))\n",
        "for i in range(9, -1, -1):\n",
        "  print(i)"
      ],
      "metadata": {
        "colab": {
          "base_uri": "https://localhost:8080/"
        },
        "id": "Pexsio5YcVel",
        "outputId": "a9b4639f-5296-4478-ebf0-668da3b1ff82"
      },
      "execution_count": 16,
      "outputs": [
        {
          "output_type": "stream",
          "name": "stdout",
          "text": [
            "range(0, 10)\n",
            "[0, 1, 2, 3, 4, 5, 6, 7, 8, 9]\n",
            "9\n",
            "8\n",
            "7\n",
            "6\n",
            "5\n",
            "4\n",
            "3\n",
            "2\n",
            "1\n",
            "0\n"
          ]
        }
      ]
    },
    {
      "cell_type": "code",
      "source": [
        "monthly_average_temperatures = [6, 7, 9, 15, 20, 22, 27, 26, 23, 17, 12, 7]\n",
        "for i in range(len(monthly_average_temperatures)):\n",
        "  print(\"{}月の平均気温は{}度です\".format(i+1, monthly_average_temperatures[i]))"
      ],
      "metadata": {
        "colab": {
          "base_uri": "https://localhost:8080/"
        },
        "id": "wXWP6684dDMX",
        "outputId": "807feedd-da0e-48ce-fa25-24aa6b4f5d17"
      },
      "execution_count": 18,
      "outputs": [
        {
          "output_type": "stream",
          "name": "stdout",
          "text": [
            "1月の平均気温は6度です\n",
            "2月の平均気温は7度です\n",
            "3月の平均気温は9度です\n",
            "4月の平均気温は15度です\n",
            "5月の平均気温は20度です\n",
            "6月の平均気温は22度です\n",
            "7月の平均気温は27度です\n",
            "8月の平均気温は26度です\n",
            "9月の平均気温は23度です\n",
            "10月の平均気温は17度です\n",
            "11月の平均気温は12度です\n",
            "12月の平均気温は7度です\n"
          ]
        }
      ]
    },
    {
      "cell_type": "code",
      "source": [
        "MONTH_NUMBERS = list(range(1, 13))\n",
        "monthly_average_temperatures = [6, 7, 9, 15, 20, 22, 27, 26, 23, 17, 12, 7]\n",
        "for month_number, temperature in zip(MONTH_NUMBERS, monthly_average_temperatures):\n",
        "  print(\"{}月の平均気温は{}度です。\".format(month_number, temperature))"
      ],
      "metadata": {
        "colab": {
          "base_uri": "https://localhost:8080/"
        },
        "id": "1pKIby6GdrzO",
        "outputId": "46b6d421-9448-42f7-a64c-8292f293b458"
      },
      "execution_count": 19,
      "outputs": [
        {
          "output_type": "stream",
          "name": "stdout",
          "text": [
            "1月の平均気温は6度です。\n",
            "2月の平均気温は7度です。\n",
            "3月の平均気温は9度です。\n",
            "4月の平均気温は15度です。\n",
            "5月の平均気温は20度です。\n",
            "6月の平均気温は22度です。\n",
            "7月の平均気温は27度です。\n",
            "8月の平均気温は26度です。\n",
            "9月の平均気温は23度です。\n",
            "10月の平均気温は17度です。\n",
            "11月の平均気温は12度です。\n",
            "12月の平均気温は7度です。\n"
          ]
        }
      ]
    },
    {
      "cell_type": "code",
      "source": [
        "num = 0\n",
        "while num < 10:\n",
        "  print(num)\n",
        "  num += 3"
      ],
      "metadata": {
        "colab": {
          "base_uri": "https://localhost:8080/"
        },
        "id": "4JWcQlYEeNYp",
        "outputId": "70daf6fe-34c2-4fc8-d14f-a763d14a1ac0"
      },
      "execution_count": 20,
      "outputs": [
        {
          "output_type": "stream",
          "name": "stdout",
          "text": [
            "0\n",
            "3\n",
            "6\n",
            "9\n"
          ]
        }
      ]
    }
  ]
}