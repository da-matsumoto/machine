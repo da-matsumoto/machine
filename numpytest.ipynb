{
  "nbformat": 4,
  "nbformat_minor": 0,
  "metadata": {
    "colab": {
      "name": "numpytest.ipynb",
      "provenance": [],
      "authorship_tag": "ABX9TyP4mhrEI4gAUUzKPdjQdDvo",
      "include_colab_link": true
    },
    "kernelspec": {
      "name": "python3",
      "display_name": "Python 3"
    },
    "language_info": {
      "name": "python"
    }
  },
  "cells": [
    {
      "cell_type": "markdown",
      "metadata": {
        "id": "view-in-github",
        "colab_type": "text"
      },
      "source": [
        "<a href=\"https://colab.research.google.com/github/da-matsumoto/machine/blob/practice/numpytest.ipynb\" target=\"_parent\"><img src=\"https://colab.research.google.com/assets/colab-badge.svg\" alt=\"Open In Colab\"/></a>"
      ]
    },
    {
      "cell_type": "code",
      "execution_count": 9,
      "metadata": {
        "colab": {
          "base_uri": "https://localhost:8080/"
        },
        "id": "jiKyO0eg2rmo",
        "outputId": "8f4da7b6-be48-4acb-9781-5aa0d730876f"
      },
      "outputs": [
        {
          "output_type": "stream",
          "name": "stdout",
          "text": [
            "[1 2 3]\n"
          ]
        },
        {
          "output_type": "execute_result",
          "data": {
            "text/plain": [
              "(3,)"
            ]
          },
          "metadata": {},
          "execution_count": 9
        }
      ],
      "source": [
        "import numpy as np\n",
        "\n",
        "a = np.array([1, 2, 3])\n",
        "a\n",
        "type(a)\n",
        "print(a)\n",
        "a.shape"
      ]
    },
    {
      "cell_type": "code",
      "source": [
        "import numpy as np\n",
        "\n",
        "b = np.array([[1, 2, 3], [4, 5, 6]])\n",
        "b\n",
        "print(b)\n",
        "b.shape"
      ],
      "metadata": {
        "colab": {
          "base_uri": "https://localhost:8080/"
        },
        "id": "VrQ0z6pwAgNS",
        "outputId": "40964166-3815-4092-cb13-0be377eb670b"
      },
      "execution_count": 8,
      "outputs": [
        {
          "output_type": "stream",
          "name": "stdout",
          "text": [
            "[[1 2 3]\n",
            " [4 5 6]]\n"
          ]
        },
        {
          "output_type": "execute_result",
          "data": {
            "text/plain": [
              "(2, 3)"
            ]
          },
          "metadata": {},
          "execution_count": 8
        }
      ]
    },
    {
      "cell_type": "code",
      "source": [
        "a = np.array([1, 2, 3])\n",
        "b = np.array([[1, 2, 3], [4, 5, 6]])\n",
        "\n",
        "print(a[0])\n",
        "print(a[-1])\n",
        "print(b[0])\n",
        "print(b[1, 0])\n",
        "print(a[1:])\n",
        "print(b[:, 2])\n",
        "print(b[1, :])"
      ],
      "metadata": {
        "colab": {
          "base_uri": "https://localhost:8080/"
        },
        "id": "t2LjPxj4A-It",
        "outputId": "9d5474c3-c4a6-48b2-a80f-14c5c4ddf527"
      },
      "execution_count": 16,
      "outputs": [
        {
          "output_type": "stream",
          "name": "stdout",
          "text": [
            "1\n",
            "3\n",
            "[1 2 3]\n",
            "4\n",
            "[2 3]\n",
            "[3 6]\n",
            "[4 5 6]\n"
          ]
        }
      ]
    },
    {
      "cell_type": "code",
      "source": [
        "a = np.array([1, 2, 3])\n",
        "a[2] = 4\n",
        "print(a)\n",
        "\n",
        "b = np.array([[1, 2, 3], [4, 5, 6]])\n",
        "b[1, 2] = 7\n",
        "print(b)\n",
        "b[:, 2] = 8\n",
        "print(b)"
      ],
      "metadata": {
        "colab": {
          "base_uri": "https://localhost:8080/"
        },
        "id": "FIiXz92vBv5F",
        "outputId": "d6ee94fa-289f-49ec-9ead-86088be247e5"
      },
      "execution_count": 20,
      "outputs": [
        {
          "output_type": "stream",
          "name": "stdout",
          "text": [
            "[1 2 4]\n",
            "[[1 2 3]\n",
            " [4 5 7]]\n",
            "[[1 2 8]\n",
            " [4 5 8]]\n"
          ]
        }
      ]
    },
    {
      "cell_type": "code",
      "source": [
        "import numpy as np\n",
        "a = np.array([1, 2, 3])\n",
        "print(np.sum(a))\n",
        "print(a.sum())\n",
        "print(a.dtype)\n",
        "a.astype(np.float16)"
      ],
      "metadata": {
        "colab": {
          "base_uri": "https://localhost:8080/"
        },
        "id": "2wGfQ-N1V8U2",
        "outputId": "1ab2ac42-355a-488e-c3c4-1fe540da8e74"
      },
      "execution_count": 3,
      "outputs": [
        {
          "output_type": "stream",
          "name": "stdout",
          "text": [
            "6\n",
            "6\n",
            "int64\n"
          ]
        },
        {
          "output_type": "execute_result",
          "data": {
            "text/plain": [
              "array([1., 2., 3.], dtype=float16)"
            ]
          },
          "metadata": {},
          "execution_count": 3
        }
      ]
    },
    {
      "cell_type": "code",
      "source": [
        "import numpy as np\n",
        "c1 = np.array([1, 2, 3, 4, 5, 6])\n",
        "print(c1) \n",
        "c2 = c1.reshape((2, 3))\n",
        "print(c2)\n",
        "c3 = c2.ravel()\n",
        "print(c3)\n",
        "c4 = c2.flatten()\n",
        "print(c4)"
      ],
      "metadata": {
        "colab": {
          "base_uri": "https://localhost:8080/"
        },
        "id": "ux5KbQIkqrA-",
        "outputId": "815db43f-a57c-471e-c488-b88b205debee"
      },
      "execution_count": 7,
      "outputs": [
        {
          "output_type": "stream",
          "name": "stdout",
          "text": [
            "[1 2 3 4 5 6]\n",
            "[[1 2 3]\n",
            " [4 5 6]]\n",
            "[1 2 3 4 5 6]\n",
            "[1 2 3 4 5 6]\n"
          ]
        }
      ]
    },
    {
      "cell_type": "code",
      "source": [
        "import numpy as np\n",
        "a = np.array([1, 2, 3])\n",
        "print(a)\n",
        "a1 = a\n",
        "a1[2] = 5\n",
        "print(a1)\n",
        "print(a)\n",
        "a2 = a.copy()\n",
        "print(a2)\n",
        "a2[2] = 10\n",
        "print(a2)\n",
        "print(a)"
      ],
      "metadata": {
        "colab": {
          "base_uri": "https://localhost:8080/"
        },
        "id": "6hSD6PtqrTp3",
        "outputId": "646d4702-701d-40bc-8a0c-c118c2ea2cf8"
      },
      "execution_count": 13,
      "outputs": [
        {
          "output_type": "stream",
          "name": "stdout",
          "text": [
            "[1 2 3]\n",
            "[1 2 5]\n",
            "[1 2 5]\n",
            "[1 2 5]\n",
            "[ 1  2 10]\n",
            "[1 2 5]\n"
          ]
        }
      ]
    },
    {
      "cell_type": "code",
      "source": [
        "import numpy as np\n",
        "np.arange(10)\n",
        "np.arange(1, 11)\n",
        "np.arange(1, 11, 2)"
      ],
      "metadata": {
        "colab": {
          "base_uri": "https://localhost:8080/"
        },
        "id": "J_Nz5Dy6sBi1",
        "outputId": "9190255c-995e-4ce9-9d3f-65fb4b98c95f"
      },
      "execution_count": 17,
      "outputs": [
        {
          "output_type": "execute_result",
          "data": {
            "text/plain": [
              "array([1, 3, 5, 7, 9])"
            ]
          },
          "metadata": {},
          "execution_count": 17
        }
      ]
    },
    {
      "cell_type": "code",
      "source": [
        "import numpy as np\n",
        "f_array = np.random.random((4, 2))\n",
        "print(f_array)\n",
        "np.random.seed(123)\n",
        "print(np.random.random((4, 2)))"
      ],
      "metadata": {
        "colab": {
          "base_uri": "https://localhost:8080/"
        },
        "id": "4Be8wQ46sZmJ",
        "outputId": "5e9e5d17-54f6-4f44-f7c0-7a999745ca77"
      },
      "execution_count": 22,
      "outputs": [
        {
          "output_type": "stream",
          "name": "stdout",
          "text": [
            "[[0.4809319  0.39211752]\n",
            " [0.34317802 0.72904971]\n",
            " [0.43857224 0.0596779 ]\n",
            " [0.39804426 0.73799541]]\n",
            "[[0.69646919 0.28613933]\n",
            " [0.22685145 0.55131477]\n",
            " [0.71946897 0.42310646]\n",
            " [0.9807642  0.68482974]]\n"
          ]
        }
      ]
    },
    {
      "cell_type": "code",
      "source": [
        "import numpy as np\n",
        "np.random.seed(123)\n",
        "print(np.random.randint(1, 10))\n",
        "print(np.random.randint(1, 10, (3, 5)))"
      ],
      "metadata": {
        "colab": {
          "base_uri": "https://localhost:8080/"
        },
        "id": "A6JIC4E4s4vm",
        "outputId": "763bd5f5-4774-44eb-9328-bf5de2836cd0"
      },
      "execution_count": 26,
      "outputs": [
        {
          "output_type": "stream",
          "name": "stdout",
          "text": [
            "3\n",
            "[[3 7 2 4 7]\n",
            " [2 1 2 1 1]\n",
            " [4 5 1 1 5]]\n"
          ]
        }
      ]
    },
    {
      "cell_type": "code",
      "source": [
        "import numpy as np\n",
        "np.random.seed(123)\n",
        "print(np.random.uniform(0.0, 5.0, size=(4, 2)))\n",
        "\n",
        "print(np.random.randn(4, 3))"
      ],
      "metadata": {
        "colab": {
          "base_uri": "https://localhost:8080/"
        },
        "id": "WTjuYvt6tS8v",
        "outputId": "fe8616a1-38aa-4e2a-c87b-f281636631ad"
      },
      "execution_count": 28,
      "outputs": [
        {
          "output_type": "stream",
          "name": "stdout",
          "text": [
            "[[3.48234593 1.43069667]\n",
            " [1.13425727 2.75657385]\n",
            " [3.59734485 2.1155323 ]\n",
            " [4.90382099 3.42414869]]\n",
            "[[-2.42667924 -0.42891263  1.26593626]\n",
            " [-0.8667404  -0.67888615 -0.09470897]\n",
            " [ 1.49138963 -0.638902   -0.44398196]\n",
            " [-0.43435128  2.20593008  2.18678609]]\n"
          ]
        }
      ]
    },
    {
      "cell_type": "code",
      "source": [
        "import numpy as np\n",
        "print(np.zeros((3,4)))\n",
        "print(np.ones((2, 4)))\n",
        "print(np.eye(4))\n",
        "print(np.full(5, 10))\n",
        "print(np.full((2, 3), np.pi))\n",
        "print(np.linspace(0, 1, 5))"
      ],
      "metadata": {
        "colab": {
          "base_uri": "https://localhost:8080/"
        },
        "id": "wMTCIMrItz8d",
        "outputId": "e58b2bd5-b869-45e4-a3b3-18902e94a62e"
      },
      "execution_count": 42,
      "outputs": [
        {
          "output_type": "stream",
          "name": "stdout",
          "text": [
            "[[0. 0. 0. 0.]\n",
            " [0. 0. 0. 0.]\n",
            " [0. 0. 0. 0.]]\n",
            "[[1. 1. 1. 1.]\n",
            " [1. 1. 1. 1.]]\n",
            "[[1. 0. 0. 0.]\n",
            " [0. 1. 0. 0.]\n",
            " [0. 0. 1. 0.]\n",
            " [0. 0. 0. 1.]]\n",
            "[10 10 10 10 10]\n",
            "[[3.14159265 3.14159265 3.14159265]\n",
            " [3.14159265 3.14159265 3.14159265]]\n",
            "[0.   0.25 0.5  0.75 1.  ]\n"
          ]
        }
      ]
    },
    {
      "cell_type": "markdown",
      "source": [
        ""
      ],
      "metadata": {
        "id": "DcBhv2zbvOuq"
      }
    }
  ]
}