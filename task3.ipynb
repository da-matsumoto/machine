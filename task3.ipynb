{
  "nbformat": 4,
  "nbformat_minor": 0,
  "metadata": {
    "colab": {
      "name": "task3.ipynb",
      "provenance": [],
      "collapsed_sections": [],
      "authorship_tag": "ABX9TyP08NL+tODJm4FMX1boJ8lL",
      "include_colab_link": true
    },
    "kernelspec": {
      "name": "python3",
      "display_name": "Python 3"
    },
    "language_info": {
      "name": "python"
    }
  },
  "cells": [
    {
      "cell_type": "markdown",
      "metadata": {
        "id": "view-in-github",
        "colab_type": "text"
      },
      "source": [
        "<a href=\"https://colab.research.google.com/github/da-matsumoto/machine/blob/practice/task3.ipynb\" target=\"_parent\"><img src=\"https://colab.research.google.com/assets/colab-badge.svg\" alt=\"Open In Colab\"/></a>"
      ]
    },
    {
      "cell_type": "code",
      "execution_count": 15,
      "metadata": {
        "colab": {
          "base_uri": "https://localhost:8080/"
        },
        "id": "t5X64xRyJNmT",
        "outputId": "0eeede9a-927a-4413-988f-2f35449ad72b"
      },
      "outputs": [
        {
          "output_type": "stream",
          "name": "stdout",
          "text": [
            "富士山の高さを超えるには25回折る必要がある\n"
          ]
        }
      ],
      "source": [
        "THICKNESS = 0.00008\n",
        "height_fuji = 3776\n",
        "amount = 0\n",
        "counter = 0\n",
        "\n",
        "while True:\n",
        "  counter += 1\n",
        "  amount = THICKNESS * (2 ** counter)\n",
        "  if amount >= height_fuji:\n",
        "    counter -= 1\n",
        "    print(\"富士山の高さを超えるには{}回折る必要がある\".format(counter))\n",
        "    break"
      ]
    },
    {
      "cell_type": "code",
      "source": [
        "def fold_paper(paperthickness=0.0008, needheight=3776):\n",
        "  \"\"\"高さと紙の厚さを入力するとそれに到達する折り畳み回数が出力される関数\n",
        "  Parameters\n",
        "  ----------\n",
        "  paperthickness:int\n",
        "    紙の厚さ(default:0.0008)\n",
        "  needheight:int\n",
        "    到達したい高さ(default:3776)\n",
        "\n",
        "  Returns\n",
        "  -------\n",
        "  counter:int\n",
        "    到達するのに必要な折り畳み回数\n",
        "  \n",
        "  \"\"\"\n",
        "  amount = 0\n",
        "  counter = 0\n",
        "\n",
        "  while True:\n",
        "    counter += 1\n",
        "    amount = paperthickness * (2 ** counter)\n",
        "    if amount >= needheight:\n",
        "      counter -= 1\n",
        "      return counter\n",
        "      break\n",
        "\"\"\"\n",
        "プロキシマケンタウリと地球の距離：4.2光年\n",
        "1光年:9兆5000億km\n",
        "\"\"\"\n",
        "counter = fold_paper(0.00008, (9500000000000 * 1000))\n",
        "print(\"プロキシマケンタウリに到達するには{}回折る必要がある\".format(counter))"
      ],
      "metadata": {
        "colab": {
          "base_uri": "https://localhost:8080/"
        },
        "id": "0yU0Ttf4Y_9A",
        "outputId": "d075758d-f36a-4055-c154-f62c76b3bd9f"
      },
      "execution_count": 28,
      "outputs": [
        {
          "output_type": "stream",
          "name": "stdout",
          "text": [
            "プロキシマケンタウリに到達するには66回折る必要がある\n"
          ]
        }
      ]
    },
    {
      "cell_type": "code",
      "source": [
        "import math\n",
        "\n",
        "\"\"\"\n",
        "紙の長さ:(math.pi * 厚さ) / 6 * (2 ** n + 4) * (2 ** n - 1)\n",
        "\"\"\"\n",
        "THICKNESS = 0.00008\n",
        "\n",
        "def output_paperlength(needheight=3776):\n",
        "  \"\"\"到達したいものまでの距離を入力すると必要な紙の長さが出力される関数\n",
        "  Parameters\n",
        "  ----------\n",
        "  needheight:int\n",
        "    到達したい高さ(default:3776)\n",
        "\n",
        "  Returns\n",
        "  -------\n",
        "  paperlength:int\n",
        "    紙の長さ\n",
        "\n",
        "  \"\"\"\n",
        "  amount = 0\n",
        "  counter = 0\n",
        "  paperlength = 0\n",
        "\n",
        "  while True:\n",
        "    counter += 1\n",
        "    amount = THICKNESS * (2 ** counter)\n",
        "    if amount > needheight:\n",
        "      counter -= 1\n",
        "      break\n",
        "  \n",
        "  paperlength = (math.pi * THICKNESS) / 6 * (2 ** counter + 4) * (2 ** counter - 1)\n",
        "  return paperlength\n",
        "  \n",
        "print(\"富士山の高さに到達するには{}mの長さの紙が必要\".format(output_paperlength(3776)))\n",
        "print(\"月の高さに到達するには{}mの長さの紙が必要\".format(output_paperlength(384400 * 1000)))\n",
        "print(\"プロキシマケンタウリの高さに到達するには{}mの長さの紙が必要\".format(output_paperlength(9500000000000 * 1000)))\n"
      ],
      "metadata": {
        "colab": {
          "base_uri": "https://localhost:8080/"
        },
        "id": "44POxipIdGef",
        "outputId": "9d96455c-f188-433e-bd59-940631c68563"
      },
      "execution_count": 30,
      "outputs": [
        {
          "output_type": "stream",
          "name": "stdout",
          "text": [
            "富士山の高さに到達するには44980.90992917804mの長さの紙が必要\n",
            "月の高さに到達するには8.102298610429716e+20mの長さの紙が必要\n",
            "プロキシマケンタウリの高さに到達するには2.2805943126719294e+35mの長さの紙が必要\n"
          ]
        }
      ]
    }
  ]
}