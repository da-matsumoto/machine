{
  "nbformat": 4,
  "nbformat_minor": 0,
  "metadata": {
    "colab": {
      "name": "function.ipynb",
      "provenance": [],
      "authorship_tag": "ABX9TyMojQLxi8Oje7zo66cvv7XP",
      "include_colab_link": true
    },
    "kernelspec": {
      "name": "python3",
      "display_name": "Python 3"
    },
    "language_info": {
      "name": "python"
    }
  },
  "cells": [
    {
      "cell_type": "markdown",
      "metadata": {
        "id": "view-in-github",
        "colab_type": "text"
      },
      "source": [
        "<a href=\"https://colab.research.google.com/github/da-matsumoto/machine/blob/practice/function.ipynb\" target=\"_parent\"><img src=\"https://colab.research.google.com/assets/colab-badge.svg\" alt=\"Open In Colab\"/></a>"
      ]
    },
    {
      "cell_type": "code",
      "source": [
        "def print_hello_world():\n",
        "  print(\"Hello world\")\n",
        "\n",
        "print_hello_world()"
      ],
      "metadata": {
        "colab": {
          "base_uri": "https://localhost:8080/"
        },
        "id": "dAcXlFxEe-jW",
        "outputId": "dcb834a0-3165-4799-fc81-1ed7a82ae406"
      },
      "execution_count": 2,
      "outputs": [
        {
          "output_type": "stream",
          "name": "stdout",
          "text": [
            "Hello world\n"
          ]
        }
      ]
    },
    {
      "cell_type": "code",
      "source": [
        "def print_hello_something(something = \"JavaScript\"):\n",
        "  print(\"Hello, {}!\".format(something))\n",
        "\n",
        "print_hello_something(\"Python\")\n",
        "print_hello_something()"
      ],
      "metadata": {
        "colab": {
          "base_uri": "https://localhost:8080/"
        },
        "id": "lRJVLaRGfcJf",
        "outputId": "e4efccb1-e197-494e-b6c6-82afa7fd95e3"
      },
      "execution_count": 4,
      "outputs": [
        {
          "output_type": "stream",
          "name": "stdout",
          "text": [
            "Hello, Python!\n",
            "Hello, JavaScript!\n"
          ]
        }
      ]
    },
    {
      "cell_type": "code",
      "source": [
        "def hello_something(something, end = \"!\"):\n",
        "  return \"Hello, {}{}\".format(something, end)\n",
        "\n",
        "print(hello_something(\"Python\", \"!!!!!!\"))"
      ],
      "metadata": {
        "colab": {
          "base_uri": "https://localhost:8080/"
        },
        "id": "1McoX9m0f7st",
        "outputId": "c3bec0f7-01c7-44f4-fbea-8d38da021119"
      },
      "execution_count": 6,
      "outputs": [
        {
          "output_type": "stream",
          "name": "stdout",
          "text": [
            "Hello, Python!!!!!!\n"
          ]
        }
      ]
    }
  ]
}