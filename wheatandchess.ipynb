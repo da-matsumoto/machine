{
  "nbformat": 4,
  "nbformat_minor": 0,
  "metadata": {
    "colab": {
      "name": "wheatandchess.ipynb",
      "provenance": [],
      "collapsed_sections": [],
      "authorship_tag": "ABX9TyPW8QrUyYvBGArvt2OF9z0B",
      "include_colab_link": true
    },
    "kernelspec": {
      "name": "python3",
      "display_name": "Python 3"
    },
    "language_info": {
      "name": "python"
    }
  },
  "cells": [
    {
      "cell_type": "markdown",
      "metadata": {
        "id": "view-in-github",
        "colab_type": "text"
      },
      "source": [
        "<a href=\"https://colab.research.google.com/github/da-matsumoto/machine/blob/practice/wheatandchess.ipynb\" target=\"_parent\"><img src=\"https://colab.research.google.com/assets/colab-badge.svg\" alt=\"Open In Colab\"/></a>"
      ]
    },
    {
      "cell_type": "code",
      "execution_count": 5,
      "metadata": {
        "colab": {
          "base_uri": "https://localhost:8080/"
        },
        "id": "Qr8htksRJ9e1",
        "outputId": "b3c6162a-e1d3-46fa-a319-02de0314d6ba"
      },
      "outputs": [
        {
          "output_type": "stream",
          "name": "stdout",
          "text": [
            "2\n",
            "[1, 2]\n",
            "4\n",
            "[1, 2, 4]\n",
            "8\n",
            "[1, 2, 4, 8]\n",
            "4マスの板に小麦を並べる（リスト）:[1, 2, 4, 8]\n",
            "4マスの板に小麦を並べる（ndarray）:[1 2 4 8]\n"
          ]
        }
      ],
      "source": [
        "n_squares = 4\n",
        "small_board_list = [1]\n",
        "for _ in range(n_squares - 1):\n",
        "  print(2*small_board_list[-1])\n",
        "  small_board_list.append(2*small_board_list[-1])\n",
        "  print(small_board_list)\n",
        "print(\"4マスの板に小麦を並べる（リスト）:{}\".format(small_board_list))\n",
        "\n",
        "import numpy as np\n",
        "\n",
        "small_board_ndarray = np.array(small_board_list)\n",
        "print(\"4マスの板に小麦を並べる（ndarray）:{}\".format(small_board_ndarray))"
      ]
    },
    {
      "cell_type": "code",
      "source": [
        "# 問題1\n",
        "import numpy as np\n",
        "\n",
        "n_squares = 4\n",
        "board = [1]\n",
        "\n",
        "for _ in range(n_squares - 1):\n",
        "  board.append(2*board[-1])\n",
        "\n",
        "board_ndarray = np.array(board)\n",
        "board_reshape = board_ndarray.reshape((2, 2))\n",
        "print(board_reshape)\n"
      ],
      "metadata": {
        "colab": {
          "base_uri": "https://localhost:8080/"
        },
        "id": "KjYJnpRjl7Ya",
        "outputId": "64d3dd7f-a5a8-4fda-8912-b40fe646a465"
      },
      "execution_count": 32,
      "outputs": [
        {
          "output_type": "stream",
          "name": "stdout",
          "text": [
            "[[1 2]\n",
            " [4 8]]\n"
          ]
        }
      ]
    },
    {
      "cell_type": "code",
      "source": [
        "# 問題2\n",
        "import numpy as np\n",
        "\n",
        "def wheatandchess(n=1, m=1):\n",
        "  \"\"\"\n",
        "  nxmマスのチェス盤の小麦の数を記したndarrayを返す関数\n",
        "  Parameters\n",
        "  ----------\n",
        "  n:int\n",
        "  縦マスの数\n",
        "  m:int\n",
        "  横マスの数\n",
        "\n",
        "  Returns\n",
        "  -------\n",
        "  board_ndarray:array\n",
        "  小麦の数を記したndarray\n",
        "  \"\"\"\n",
        "  n_squares = n * m\n",
        "  board = [1]\n",
        "\n",
        "  for _ in range(n_squares - 1):\n",
        "    board.append(2*board[-1])\n",
        "  board_ndarray =np.array(board)\n",
        "  return board_ndarray\n",
        "\n",
        "print(wheatandchess(8, 8).reshape(8, 8))"
      ],
      "metadata": {
        "colab": {
          "base_uri": "https://localhost:8080/"
        },
        "id": "VIzCjOe8r0tW",
        "outputId": "787ae961-ff1f-4b1b-d5eb-2dd10893eccb"
      },
      "execution_count": 38,
      "outputs": [
        {
          "output_type": "stream",
          "name": "stdout",
          "text": [
            "[[1.00000000e+00 2.00000000e+00 4.00000000e+00 8.00000000e+00\n",
            "  1.60000000e+01 3.20000000e+01 6.40000000e+01 1.28000000e+02]\n",
            " [2.56000000e+02 5.12000000e+02 1.02400000e+03 2.04800000e+03\n",
            "  4.09600000e+03 8.19200000e+03 1.63840000e+04 3.27680000e+04]\n",
            " [6.55360000e+04 1.31072000e+05 2.62144000e+05 5.24288000e+05\n",
            "  1.04857600e+06 2.09715200e+06 4.19430400e+06 8.38860800e+06]\n",
            " [1.67772160e+07 3.35544320e+07 6.71088640e+07 1.34217728e+08\n",
            "  2.68435456e+08 5.36870912e+08 1.07374182e+09 2.14748365e+09]\n",
            " [4.29496730e+09 8.58993459e+09 1.71798692e+10 3.43597384e+10\n",
            "  6.87194767e+10 1.37438953e+11 2.74877907e+11 5.49755814e+11]\n",
            " [1.09951163e+12 2.19902326e+12 4.39804651e+12 8.79609302e+12\n",
            "  1.75921860e+13 3.51843721e+13 7.03687442e+13 1.40737488e+14]\n",
            " [2.81474977e+14 5.62949953e+14 1.12589991e+15 2.25179981e+15\n",
            "  4.50359963e+15 9.00719925e+15 1.80143985e+16 3.60287970e+16]\n",
            " [7.20575940e+16 1.44115188e+17 2.88230376e+17 5.76460752e+17\n",
            "  1.15292150e+18 2.30584301e+18 4.61168602e+18 9.22337204e+18]]\n"
          ]
        }
      ]
    }
  ]
}