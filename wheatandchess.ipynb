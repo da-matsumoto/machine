{
  "nbformat": 4,
  "nbformat_minor": 0,
  "metadata": {
    "colab": {
      "name": "wheatandchess.ipynb",
      "provenance": [],
      "collapsed_sections": [],
      "authorship_tag": "ABX9TyNFs3Qbdf5IGNAc7kAgTcq/",
      "include_colab_link": true
    },
    "kernelspec": {
      "name": "python3",
      "display_name": "Python 3"
    },
    "language_info": {
      "name": "python"
    }
  },
  "cells": [
    {
      "cell_type": "markdown",
      "metadata": {
        "id": "view-in-github",
        "colab_type": "text"
      },
      "source": [
        "<a href=\"https://colab.research.google.com/github/da-matsumoto/machine/blob/practice/wheatandchess.ipynb\" target=\"_parent\"><img src=\"https://colab.research.google.com/assets/colab-badge.svg\" alt=\"Open In Colab\"/></a>"
      ]
    },
    {
      "cell_type": "code",
      "execution_count": 5,
      "metadata": {
        "colab": {
          "base_uri": "https://localhost:8080/"
        },
        "id": "Qr8htksRJ9e1",
        "outputId": "b3c6162a-e1d3-46fa-a319-02de0314d6ba"
      },
      "outputs": [
        {
          "output_type": "stream",
          "name": "stdout",
          "text": [
            "2\n",
            "[1, 2]\n",
            "4\n",
            "[1, 2, 4]\n",
            "8\n",
            "[1, 2, 4, 8]\n",
            "4マスの板に小麦を並べる（リスト）:[1, 2, 4, 8]\n",
            "4マスの板に小麦を並べる（ndarray）:[1 2 4 8]\n"
          ]
        }
      ],
      "source": [
        "n_squares = 4\n",
        "small_board_list = [1]\n",
        "for _ in range(n_squares - 1):\n",
        "  print(2*small_board_list[-1])\n",
        "  small_board_list.append(2*small_board_list[-1])\n",
        "  print(small_board_list)\n",
        "print(\"4マスの板に小麦を並べる（リスト）:{}\".format(small_board_list))\n",
        "\n",
        "import numpy as np\n",
        "\n",
        "small_board_ndarray = np.array(small_board_list)\n",
        "print(\"4マスの板に小麦を並べる（ndarray）:{}\".format(small_board_ndarray))"
      ]
    },
    {
      "cell_type": "code",
      "source": [
        "# 問題1\n",
        "import numpy as np\n",
        "\n",
        "n_squares = 4\n",
        "board = [1]\n",
        "\n",
        "for i in range(n_squares - 1):\n",
        "  board.append(2*board[-1])\n",
        "\n",
        "board_ndarray = np.array(board)\n",
        "board_reshape = board_ndarray.reshape((2, 2))\n",
        "print(board_reshape)\n"
      ],
      "metadata": {
        "colab": {
          "base_uri": "https://localhost:8080/"
        },
        "id": "KjYJnpRjl7Ya",
        "outputId": "3e74239f-daf7-4fae-c078-49164699563c"
      },
      "execution_count": 31,
      "outputs": [
        {
          "output_type": "stream",
          "name": "stdout",
          "text": [
            "[[1 2]\n",
            " [4 8]]\n"
          ]
        }
      ]
    }
  ]
}