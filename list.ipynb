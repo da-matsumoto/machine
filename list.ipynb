{
  "nbformat": 4,
  "nbformat_minor": 0,
  "metadata": {
    "colab": {
      "name": "list.ipynb",
      "provenance": [],
      "authorship_tag": "ABX9TyN2k3LVEUtfPhzgXE9uQRN7",
      "include_colab_link": true
    },
    "kernelspec": {
      "name": "python3",
      "display_name": "Python 3"
    },
    "language_info": {
      "name": "python"
    }
  },
  "cells": [
    {
      "cell_type": "markdown",
      "metadata": {
        "id": "view-in-github",
        "colab_type": "text"
      },
      "source": [
        "<a href=\"https://colab.research.google.com/github/da-matsumoto/machine/blob/practice/list.ipynb\" target=\"_parent\"><img src=\"https://colab.research.google.com/assets/colab-badge.svg\" alt=\"Open In Colab\"/></a>"
      ]
    },
    {
      "cell_type": "code",
      "execution_count": 1,
      "metadata": {
        "colab": {
          "base_uri": "https://localhost:8080/"
        },
        "id": "BucIyTiJahfL",
        "outputId": "9c890521-84bd-4388-be48-f6cd16363948"
      },
      "outputs": [
        {
          "output_type": "stream",
          "name": "stdout",
          "text": [
            "各月の平均気温は、1月は6度、2月は7度です。\n"
          ]
        }
      ],
      "source": [
        "january_average_temperature = 6\n",
        "february_average_temperature = 7\n",
        "print(\"各月の平均気温は、1月は{}度、2月は{}度です。\".format(january_average_temperature,february_average_temperature))"
      ]
    },
    {
      "cell_type": "code",
      "source": [
        "monthly_average_temperatures = [6, 7, 9, 15, 20, 22, 27, 26, 23, 17, 12, 7]\n",
        "print(monthly_average_temperatures)\n",
        "print(type(monthly_average_temperatures))\n",
        "print(\"各月の平均気温は、1月は{}度、2月は{}度です。\".format(monthly_average_temperatures[0], monthly_average_temperatures[1]))\n",
        "print(\"各月の平均気温は、12月は{}度です。\".format(monthly_average_temperatures[-1]))\n",
        "print(type(monthly_average_temperatures[-1]))\n",
        "monthly_average_temperatures[0] = 100\n",
        "print(monthly_average_temperatures[0])\n",
        "print(monthly_average_temperatures[3:8])\n",
        "print(monthly_average_temperatures[0:7:2])\n",
        "print(len(monthly_average_temperatures))"
      ],
      "metadata": {
        "colab": {
          "base_uri": "https://localhost:8080/"
        },
        "id": "zo0vppHubGcq",
        "outputId": "134b307d-0083-4818-deae-d3fb2aed6448"
      },
      "execution_count": 10,
      "outputs": [
        {
          "output_type": "stream",
          "name": "stdout",
          "text": [
            "[6, 7, 9, 15, 20, 22, 27, 26, 23, 17, 12, 7]\n",
            "<class 'list'>\n",
            "各月の平均気温は、1月は6度、2月は7度です。\n",
            "各月の平均気温は、12月は7度です。\n",
            "<class 'int'>\n",
            "100\n",
            "[15, 20, 22, 27, 26]\n",
            "[100, 9, 20, 27]\n",
            "12\n"
          ]
        }
      ]
    },
    {
      "cell_type": "code",
      "source": [
        "numbers = [0, 1, 2, 3]\n",
        "numbers.append(4)\n",
        "print(numbers)"
      ],
      "metadata": {
        "colab": {
          "base_uri": "https://localhost:8080/"
        },
        "id": "dvUiIWGldGDu",
        "outputId": "1f6ac694-7366-4bbf-d3db-fd95918f2be7"
      },
      "execution_count": 11,
      "outputs": [
        {
          "output_type": "stream",
          "name": "stdout",
          "text": [
            "[0, 1, 2, 3, 4]\n"
          ]
        }
      ]
    },
    {
      "cell_type": "code",
      "source": [
        "texts = []\n",
        "texts.append(\"alpha\")\n",
        "texts.append(\"beta\")\n",
        "print(texts)"
      ],
      "metadata": {
        "colab": {
          "base_uri": "https://localhost:8080/"
        },
        "id": "W9CjtMLgd6UW",
        "outputId": "eaeaa21a-beb1-45a2-bf2f-83d599c718ee"
      },
      "execution_count": 12,
      "outputs": [
        {
          "output_type": "stream",
          "name": "stdout",
          "text": [
            "['alpha', 'beta']\n"
          ]
        }
      ]
    },
    {
      "cell_type": "code",
      "source": [
        "user_ids = (\"A081\", \"A114\", \"A186\")\n",
        "print(user_ids)\n",
        "print(type(user_ids))\n",
        "print(user_ids[0])\n",
        "\n",
        "s, t = 100, 200\n",
        "print(s)"
      ],
      "metadata": {
        "colab": {
          "base_uri": "https://localhost:8080/"
        },
        "id": "SrAf7BDFelHE",
        "outputId": "a1de3b5f-882f-4721-976f-1efff931f2e7"
      },
      "execution_count": 15,
      "outputs": [
        {
          "output_type": "stream",
          "name": "stdout",
          "text": [
            "('A081', 'A114', 'A186')\n",
            "<class 'tuple'>\n",
            "A081\n",
            "100\n"
          ]
        }
      ]
    }
  ]
}