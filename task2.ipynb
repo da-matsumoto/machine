{
  "nbformat": 4,
  "nbformat_minor": 0,
  "metadata": {
    "colab": {
      "name": "task2.ipynb",
      "provenance": [],
      "authorship_tag": "ABX9TyPDWm9gXUQwR+o+mv37Wc/9",
      "include_colab_link": true
    },
    "kernelspec": {
      "name": "python3",
      "display_name": "Python 3"
    },
    "language_info": {
      "name": "python"
    }
  },
  "cells": [
    {
      "cell_type": "markdown",
      "metadata": {
        "id": "view-in-github",
        "colab_type": "text"
      },
      "source": [
        "<a href=\"https://colab.research.google.com/github/da-matsumoto/machine/blob/practice/task2.ipynb\" target=\"_parent\"><img src=\"https://colab.research.google.com/assets/colab-badge.svg\" alt=\"Open In Colab\"/></a>"
      ]
    },
    {
      "cell_type": "code",
      "execution_count": 2,
      "metadata": {
        "colab": {
          "base_uri": "https://localhost:8080/",
          "height": 323
        },
        "id": "M565N6QdIm97",
        "outputId": "60cb9cd4-c3f5-4f62-ae24-2621123ba799"
      },
      "outputs": [
        {
          "output_type": "stream",
          "name": "stdout",
          "text": [
            "100日の合計：1267650600228229401496703205375\n"
          ]
        },
        {
          "output_type": "display_data",
          "data": {
            "image/png": "[encoded data removed]",
            "text/plain": [
              "<Figure size 432x288 with 1 Axes>"
            ]
          },
          "metadata": {
            "needs_background": "light"
          }
        }
      ],
      "source": [
        "import matplotlib.pyplot as plt\n",
        "plt.rcParams['font.family'] = 'IPAPGothic'\n",
        "\n",
        "amount = 0\n",
        "x = []\n",
        "y = []\n",
        "\n",
        "for i in range(100):\n",
        "  amount += 2**i\n",
        "  x += [i + 1]\n",
        "  y += [amount]\n",
        "\n",
        "print(\"100日の合計：{}\".format(amount))\n",
        "\n",
        "fig, ax = plt.subplots()\n",
        "ax.plot(x, y)\n",
        "fig.suptitle('米粒の数の推移')\n",
        "ax.set_xlabel('日数')\n",
        "ax.set_ylabel('米粒の数')\n",
        "plt.show()\n"
      ]
    }
  ]
}