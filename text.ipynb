{
  "nbformat": 4,
  "nbformat_minor": 0,
  "metadata": {
    "colab": {
      "name": "text.ipynb",
      "provenance": [],
      "collapsed_sections": [],
      "authorship_tag": "ABX9TyM8/sgYF1u1sYjrZFxOS8QN",
      "include_colab_link": true
    },
    "kernelspec": {
      "name": "python3",
      "display_name": "Python 3"
    },
    "language_info": {
      "name": "python"
    }
  },
  "cells": [
    {
      "cell_type": "markdown",
      "metadata": {
        "id": "view-in-github",
        "colab_type": "text"
      },
      "source": [
        "<a href=\"https://colab.research.google.com/github/da-matsumoto/machine/blob/practice/text.ipynb\" target=\"_parent\"><img src=\"https://colab.research.google.com/assets/colab-badge.svg\" alt=\"Open In Colab\"/></a>"
      ]
    },
    {
      "cell_type": "code",
      "execution_count": 2,
      "metadata": {
        "colab": {
          "base_uri": "https://localhost:8080/"
        },
        "id": "Nrahz8QeRbl-",
        "outputId": "bb48ca1f-6724-4b56-d2fb-f134f85a2ed9"
      },
      "outputs": [
        {
          "output_type": "stream",
          "name": "stdout",
          "text": [
            "learn python\n",
            "こんにちは\n"
          ]
        }
      ],
      "source": [
        "print(\"learn python\")\n",
        "print(\"こんにちは\")"
      ]
    },
    {
      "cell_type": "code",
      "source": [
        "student_name = \"Alice\"\n",
        "student_age = 20\n",
        "print(\"私の名前は{}です。\".format(student_name))\n",
        "print(\"わたしの名前は{}、{}歳\".format(student_name, student_age))\n",
        "print(\"{1}歳、わたしの名前は{0}\".format(student_name, student_age))"
      ],
      "metadata": {
        "colab": {
          "base_uri": "https://localhost:8080/"
        },
        "id": "C7ThGqFaRsiZ",
        "outputId": "0760f80b-aec1-4eeb-8cd2-505ca903957a"
      },
      "execution_count": 8,
      "outputs": [
        {
          "output_type": "stream",
          "name": "stdout",
          "text": [
            "私の名前はAliceです。\n",
            "わたしの名前はAlice、20歳\n",
            "20歳、わたしの名前はAlice\n"
          ]
        }
      ]
    }
  ]
}