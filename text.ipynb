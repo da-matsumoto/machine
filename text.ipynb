{
  "nbformat": 4,
  "nbformat_minor": 0,
  "metadata": {
    "colab": {
      "name": "text.ipynb",
      "provenance": [],
      "collapsed_sections": [],
      "authorship_tag": "ABX9TyM7H+m6XuqsLWS0TlrCeFAN",
      "include_colab_link": true
    },
    "kernelspec": {
      "name": "python3",
      "display_name": "Python 3"
    },
    "language_info": {
      "name": "python"
    }
  },
  "cells": [
    {
      "cell_type": "markdown",
      "metadata": {
        "id": "view-in-github",
        "colab_type": "text"
      },
      "source": [
        "<a href=\"https://colab.research.google.com/github/da-matsumoto/machine/blob/practice/text.ipynb\" target=\"_parent\"><img src=\"https://colab.research.google.com/assets/colab-badge.svg\" alt=\"Open In Colab\"/></a>"
      ]
    },
    {
      "cell_type": "code",
      "execution_count": 2,
      "metadata": {
        "colab": {
          "base_uri": "https://localhost:8080/"
        },
        "id": "Nrahz8QeRbl-",
        "outputId": "bb48ca1f-6724-4b56-d2fb-f134f85a2ed9"
      },
      "outputs": [
        {
          "output_type": "stream",
          "name": "stdout",
          "text": [
            "learn python\n",
            "こんにちは\n"
          ]
        }
      ],
      "source": [
        "print(\"learn python\")\n",
        "print(\"こんにちは\")"
      ]
    },
    {
      "cell_type": "code",
      "source": [
        "student_name = \"Alice\"\n",
        "student_age = 20\n",
        "print(\"私の名前は{}です。\".format(student_name))\n",
        "print(\"わたしの名前は{}、{}歳\".format(student_name, student_age))\n",
        "print(\"{1}歳、わたしの名前は{0}\".format(student_name, student_age))"
      ],
      "metadata": {
        "colab": {
          "base_uri": "https://localhost:8080/"
        },
        "id": "C7ThGqFaRsiZ",
        "outputId": "0760f80b-aec1-4eeb-8cd2-505ca903957a"
      },
      "execution_count": 8,
      "outputs": [
        {
          "output_type": "stream",
          "name": "stdout",
          "text": [
            "私の名前はAliceです。\n",
            "わたしの名前はAlice、20歳\n",
            "20歳、わたしの名前はAlice\n"
          ]
        }
      ]
    },
    {
      "cell_type": "code",
      "source": [
        "weather_text = \"今日の天気は{}です。\"\n",
        "weather_text = weather_text.format(\"晴れ\")\n",
        "print(weather_text)"
      ],
      "metadata": {
        "colab": {
          "base_uri": "https://localhost:8080/"
        },
        "id": "N48w1TY2UKZd",
        "outputId": "61d13ba6-2f1f-4928-ab39-b30c894dac85"
      },
      "execution_count": 9,
      "outputs": [
        {
          "output_type": "stream",
          "name": "stdout",
          "text": [
            "今日の天気は晴れです。\n"
          ]
        }
      ]
    },
    {
      "cell_type": "code",
      "source": [
        "today_temperature = 3.53\n",
        "tomorrow_temperature = -5.27\n",
        "print(\"今日の最低気温は{1:+.1f}、明日の最低気温は{0:+.1f}です\".format(today_temperature, tomorrow_temperature))"
      ],
      "metadata": {
        "colab": {
          "base_uri": "https://localhost:8080/"
        },
        "id": "_v9RGzZgUYST",
        "outputId": "f9afd6f0-879d-4070-b547-83d2faef13f8"
      },
      "execution_count": 13,
      "outputs": [
        {
          "output_type": "stream",
          "name": "stdout",
          "text": [
            "今日の最低気温は-5.3、明日の最低気温は+3.5です\n"
          ]
        }
      ]
    },
    {
      "cell_type": "code",
      "source": [
        "print(\"python\".capitalize())"
      ],
      "metadata": {
        "colab": {
          "base_uri": "https://localhost:8080/"
        },
        "id": "nt1VUbRBVR3g",
        "outputId": "8a8de2d3-a7f0-4a49-9ba1-e6eb2669e0d2"
      },
      "execution_count": 14,
      "outputs": [
        {
          "output_type": "stream",
          "name": "stdout",
          "text": [
            "Python\n"
          ]
        }
      ]
    },
    {
      "cell_type": "code",
      "source": [
        "print(\"学生の年齢\", 19, sep=\":\")"
      ],
      "metadata": {
        "colab": {
          "base_uri": "https://localhost:8080/"
        },
        "id": "KkqP-NmyVcsD",
        "outputId": "249b2d35-2b14-4d57-c82e-0d9e234cb843"
      },
      "execution_count": 15,
      "outputs": [
        {
          "output_type": "stream",
          "name": "stdout",
          "text": [
            "学生の年齢:19\n"
          ]
        }
      ]
    }
  ]
}